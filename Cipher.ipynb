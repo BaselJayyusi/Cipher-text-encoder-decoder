{
 "cells": [
  {
   "cell_type": "code",
   "execution_count": null,
   "id": "c362b62f-67a7-4b63-8f41-11de569f6847",
   "metadata": {},
   "outputs": [
    {
     "name": "stdin",
     "output_type": "stream",
     "text": [
      "Enter e if you would like to encrypt or d if you want to decrypt:\n",
      " e\n",
      "Enter your text:\n",
      " xggnjgrn\n"
     ]
    }
   ],
   "source": [
    "from numpy import array \n",
    "from getpass import getpass\n",
    "def Stringtoarray(s):\n",
    "    v=[]\n",
    "    for i in range(len(s)):\n",
    "        v.append(ord(s[i])-32)\n",
    "    return(v)\n",
    "def Arraytostring(a):\n",
    "    v=\"\"\n",
    "    for i in range(len(a)):\t\n",
    "        v+=chr(a[i]+32)\n",
    "    return(v)\n",
    "def Wraparray(a,n):\n",
    "    v=[]\n",
    "    for i in range(n):\n",
    "        v.append(a[i % len(a)])\n",
    "    return(v)\n",
    "def Vigenere(s,k):\n",
    "    x=array(Stringtoarray(s))\n",
    "    y=Wraparray(Stringtoarray(k),len(s))\n",
    "    return(Arraytostring((x+y)%94))\n",
    "def Devigenere(s,k):\n",
    "    x=array(Stringtoarray(s))\n",
    "    y=Wraparray(Stringtoarray(k),len(s))\n",
    "    return(Arraytostring((x-y)%94))\n",
    "def program():\n",
    "    x=input(\"Enter e if you would like to encrypt or d if you want to decrypt:\\n\")\n",
    "    if x==\"e\":\n",
    "        y=input(\"Enter your text:\\n\")\n",
    "        k=getpass(\"Enter your key:\")\n",
    "        print(\"Your encrypted text:\",Vigenere(y,k),\"\\n\")\n",
    "    if x==\"d\":\n",
    "        m=input(\"Enter your cipher text:\\n\")\n",
    "        z=getpass(\"Enter your key:\")\n",
    "        if z==\"\":\n",
    "            print(\"Please enter a non-empty password\",\"\\n\")\n",
    "            z=getpass(\"Enter your key:\")\n",
    "        print(\"Your decrypted text:\",Devigenere(m,z),\"\\n\")\n",
    "    else:\n",
    "          print(\"\\n\")\n",
    "    program()\n",
    "program()\n",
    "\n",
    "\n",
    "\n"
   ]
  },
  {
   "cell_type": "code",
   "execution_count": null,
   "id": "6de4189b-68a6-426c-aec9-b30e11aa93a7",
   "metadata": {},
   "outputs": [],
   "source": []
  }
 ],
 "metadata": {
  "kernelspec": {
   "display_name": "Python 3",
   "language": "python",
   "name": "python3"
  },
  "language_info": {
   "codemirror_mode": {
    "name": "ipython",
    "version": 3
   },
   "file_extension": ".py",
   "mimetype": "text/x-python",
   "name": "python",
   "nbconvert_exporter": "python",
   "pygments_lexer": "ipython3",
   "version": "3.10.4"
  }
 },
 "nbformat": 4,
 "nbformat_minor": 5
}
